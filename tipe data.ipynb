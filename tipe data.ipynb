{
 "cells": [
  {
   "cell_type": "code",
   "execution_count": null,
   "metadata": {},
   "outputs": [
    {
     "name": "stdout",
     "output_type": "stream",
     "text": [
      "<class 'int'>\n"
     ]
    }
   ],
   "source": [
    "# cek tipe data\n",
    "\n",
    "var = 123\n",
    "print(type(var)) #int (integer): angka bulat"
   ]
  },
  {
   "cell_type": "code",
   "execution_count": null,
   "metadata": {},
   "outputs": [
    {
     "name": "stdout",
     "output_type": "stream",
     "text": [
      "<class 'str'>\n"
     ]
    }
   ],
   "source": [
    "#tipe data string\n",
    "\n",
    ">>> a = '123'\n",
    ">>> b = '3.4'\n",
    ">>> c = \"Data String\"\n",
    ">>> print(type(c)) #str (string): kalimat, kata, karakter"
   ]
  },
  {
   "cell_type": "code",
   "execution_count": null,
   "metadata": {},
   "outputs": [
    {
     "name": "stdout",
     "output_type": "stream",
     "text": [
      "<class 'float'>\n",
      "345.0\n",
      "379.5\n",
      "34\n",
      "12\n"
     ]
    }
   ],
   "source": [
    "#tipe data numerik\n",
    "\n",
    ">>> var1 = 345\n",
    ">>> var2 = 34.5\n",
    ">>> f1 = float(var1) #float: tipe data desimal\n",
    ">>> print(type(f1))\n",
    "\n",
    ">>> print(f1)\n",
    "\n",
    ">>> sum = var1 + var2\n",
    ">>> print(sum)\n",
    "\n",
    ">>> var3 = 12.3\n",
    ">>> var4 = 12.9\n",
    ">>> i1 = int(var2)\n",
    ">>> i2 = int(var3)\n",
    "print (i1)\n",
    "print (i2)\n"
   ]
  },
  {
   "cell_type": "code",
   "execution_count": null,
   "metadata": {},
   "outputs": [
    {
     "name": "stdout",
     "output_type": "stream",
     "text": [
      "False\n",
      "False\n",
      "True\n",
      "True\n"
     ]
    }
   ],
   "source": [
    "#tipe data boolean\n",
    "\n",
    ">>> print(var1 == var2)\n",
    ">>> print(var1 < var2)\n",
    ">>> print(var1 > var2)\n",
    ">>> print(var1 != var2)"
   ]
  },
  {
   "cell_type": "code",
   "execution_count": null,
   "metadata": {},
   "outputs": [
    {
     "name": "stdout",
     "output_type": "stream",
     "text": [
      "['belajar dasar python', 2023, 3.8, True]\n",
      "True\n",
      "[2023, 3.8]\n",
      "4\n"
     ]
    }
   ],
   "source": [
    "#tipe data list\n",
    "\n",
    ">>> list = [\"belajar dasar python\", 2023, 3.8, True]\n",
    ">>> print(list) # menampilkan semua list\n",
    ">>> print(list[3]) # menampilkan list ke-3\n",
    ">>> print(list[1:3]) # mengambil list 1-3, dan 3 tidak termasuk\n",
    ">>> print(len(list)) # menapilkan berapa banyak list yang ada\n"
   ]
  }
 ],
 "metadata": {
  "kernelspec": {
   "display_name": "base",
   "language": "python",
   "name": "python3"
  },
  "language_info": {
   "codemirror_mode": {
    "name": "ipython",
    "version": 3
   },
   "file_extension": ".py",
   "mimetype": "text/x-python",
   "name": "python",
   "nbconvert_exporter": "python",
   "pygments_lexer": "ipython3",
   "version": "3.12.7"
  }
 },
 "nbformat": 4,
 "nbformat_minor": 2
}
