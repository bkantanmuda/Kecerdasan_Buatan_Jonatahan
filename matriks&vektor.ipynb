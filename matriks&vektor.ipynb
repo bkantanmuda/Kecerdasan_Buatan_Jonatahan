{
 "cells": [
  {
   "cell_type": "code",
   "execution_count": 3,
   "metadata": {},
   "outputs": [
    {
     "name": "stdout",
     "output_type": "stream",
     "text": [
      "[[110  90  40]\n",
      " [ 60  50  40]]\n"
     ]
    }
   ],
   "source": [
    "#operasi matriks\n",
    "\n",
    "import numpy as np\n",
    "A = np.array([[80, 30, 25],\n",
    "              [50, 20, 10]])\n",
    "B = np.array([[30, 60, 15],\n",
    "              [10, 30, 30]])\n",
    "\n",
    "hasil = A + B\n",
    "print(hasil)"
   ]
  },
  {
   "cell_type": "code",
   "execution_count": null,
   "metadata": {},
   "outputs": [
    {
     "name": "stdout",
     "output_type": "stream",
     "text": [
      "2325\n"
     ]
    }
   ],
   "source": [
    "# operasi dot product \n",
    "\n",
    "import numpy as np\n",
    "A = np.array([10, 20, 15, 20])\n",
    "# A = [A1, A2, A3, A4]\n",
    "B = np.array([16, 67, 35, 15])\n",
    "# B = [B1, B2, B3, B4]\n",
    "\n",
    "hasil = np.dot(A, B)\n",
    "# hasil = (A1 X B1) + (A2 X B2) + (A3 X B3) + (A4 X B4)\n",
    "print(hasil)"
   ]
  },
  {
   "cell_type": "code",
   "execution_count": null,
   "metadata": {},
   "outputs": [
    {
     "name": "stdout",
     "output_type": "stream",
     "text": [
      "[-305 -110  350]\n"
     ]
    }
   ],
   "source": [
    "#operasi cross product \n",
    "\n",
    "import numpy as np\n",
    "A = np.array([10, 20, 15])\n",
    "B = np.array([16, 67, 35])\n",
    "\n",
    "Hasil = np.cross(A, B)\n",
    "print(Hasil)"
   ]
  }
 ],
 "metadata": {
  "kernelspec": {
   "display_name": "base",
   "language": "python",
   "name": "python3"
  },
  "language_info": {
   "codemirror_mode": {
    "name": "ipython",
    "version": 3
   },
   "file_extension": ".py",
   "mimetype": "text/x-python",
   "name": "python",
   "nbconvert_exporter": "python",
   "pygments_lexer": "ipython3",
   "version": "3.12.7"
  }
 },
 "nbformat": 4,
 "nbformat_minor": 2
}
