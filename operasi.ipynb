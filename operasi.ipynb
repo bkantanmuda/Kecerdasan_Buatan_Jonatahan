{
 "cells": [
  {
   "cell_type": "code",
   "execution_count": 1,
   "metadata": {},
   "outputs": [
    {
     "name": "stdout",
     "output_type": "stream",
     "text": [
      "5\n",
      "18\n"
     ]
    }
   ],
   "source": [
    "#min & maks\n",
    "\n",
    "x = min(5, 10, 25) #mengambil nilai minimal\n",
    "y = max(6, 12, 18) #mengambil nilai maksimal\n",
    "\n",
    "print(x)\n",
    "print(y)"
   ]
  },
  {
   "cell_type": "code",
   "execution_count": null,
   "metadata": {},
   "outputs": [
    {
     "name": "stdout",
     "output_type": "stream",
     "text": [
      "7.25\n"
     ]
    }
   ],
   "source": [
    "#nilai absolut\n",
    "\n",
    "x = abs(-7.25) #mengubah menjadi absolut (mengubah negatif menjadi pofitif)\n",
    "print (x)"
   ]
  },
  {
   "cell_type": "code",
   "execution_count": null,
   "metadata": {},
   "outputs": [
    {
     "name": "stdout",
     "output_type": "stream",
     "text": [
      "64.0\n"
     ]
    }
   ],
   "source": [
    "# operasi pangkat (x, y) = x^y\n",
    "\n",
    "import math\n",
    "x = math.pow(4, 3) # 4^3 = 4.4.4\n",
    "print(x)"
   ]
  },
  {
   "cell_type": "code",
   "execution_count": 13,
   "metadata": {},
   "outputs": [
    {
     "name": "stdout",
     "output_type": "stream",
     "text": [
      "8\n"
     ]
    }
   ],
   "source": [
    "#operasi akar \n",
    "\n",
    "import math\n",
    "x = math.sqrt(64)\n",
    "i1 = int(x)\n",
    "print(i1)"
   ]
  },
  {
   "cell_type": "code",
   "execution_count": 17,
   "metadata": {},
   "outputs": [
    {
     "name": "stdout",
     "output_type": "stream",
     "text": [
      "2\n",
      "1\n"
     ]
    }
   ],
   "source": [
    "# operasi pembulatan\n",
    "\n",
    "import math\n",
    "x = math.ceil(1.4) #pembulatan ke atas\n",
    "y = math.floor(1.4) #pembulatan ke bawah\n",
    "print (x)\n",
    "print (y)"
   ]
  },
  {
   "cell_type": "code",
   "execution_count": 18,
   "metadata": {},
   "outputs": [
    {
     "name": "stdout",
     "output_type": "stream",
     "text": [
      "3.141592653589793\n"
     ]
    }
   ],
   "source": [
    "# nilai konstanta (pi)\n",
    "import math\n",
    "x = math.pi\n",
    "print (x)"
   ]
  },
  {
   "cell_type": "code",
   "execution_count": null,
   "metadata": {},
   "outputs": [
    {
     "ename": "IndentationError",
     "evalue": "unexpected indent (323295259.py, line 5)",
     "output_type": "error",
     "traceback": [
      "\u001b[1;36m  Cell \u001b[1;32mIn[19], line 5\u001b[1;36m\u001b[0m\n\u001b[1;33m    print(\"math.sin(pi/2) =\", math.sin(math.pi/2))  # Sinus 90° -> 1.0\u001b[0m\n\u001b[1;37m    ^\u001b[0m\n\u001b[1;31mIndentationError\u001b[0m\u001b[1;31m:\u001b[0m unexpected indent\n"
     ]
    }
   ],
   "source": [
    "#fungsi math yang lain\n",
    "\n",
    "#trigonometri\n",
    "    # math.sin()\n",
    "print(\"math.sin(pi/2) =\", math.sin(math.pi/2))  # Sinus 90° -> 1.0\n",
    "    # math.cos()\n",
    "print(\"math.cos(0) =\", math.cos(0))            # Kosinus 0° -> 1.0\n",
    "    # math.tan()\n",
    "print(\"math.tan(pi/4) =\", math.tan(math.pi/4)) # Tangen 45° -> 1.0\n",
    "\n",
    "#logaritma\n",
    "    # math.log()\n",
    "print(\"math.log(10) =\", math.log(10))          # Logaritma natural (ln 10)\n",
    "    # math.log10()\n",
    "print(\"math.log10(100) =\", math.log10(100))    # Logaritma basis 10 (log10 100)\n",
    "\n",
    "#konversi sudut\n",
    "    # math.degrees()\n",
    "print(\"math.degrees(pi) =\", math.degrees(math.pi))  # 180 derajat\n",
    "\n",
    "# Jarak Euclidean antara dua titik (1,2) dan (4,6)\n",
    "    # math.dist()\n",
    "print(\"math.dist([1, 2], [4, 6]) =\", math.dist([1, 2], [4, 6]))\n",
    "\n",
    "#faktorial\n",
    "    # math.factorial()\n",
    "print(\"math.factorial(5) =\", math.factorial(5))  # 5! = 120\n",
    "\n",
    "# Operasi Modulo (Floating Point)\n",
    "    # math.fmod()\n",
    "print(\"math.fmod(10.5, 3) =\", math.fmod(10.5, 3))  # Sisa 1.5\n",
    "\n",
    "# Cek apakah NaN\n",
    "    # math.isnan()\n",
    "print(\"math.isnan(float('nan')) =\", math.isnan(float('nan')))\n",
    "\n",
    "#fungsi gamma\n",
    "    # math.gamma()\n",
    "print(\"math.gamma(5) =\", math.gamma(5))  # Gamma(5) = 4! = 24\n",
    "\n",
    "#permutasi\n",
    "    # math.perm()\n",
    "print(\"math.perm(5, 3) =\", math.perm(5, 3))  # 5P3 = 5! / (5-3)! = 60"
   ]
  },
  {
   "cell_type": "code",
   "execution_count": 12,
   "metadata": {},
   "outputs": [
    {
     "name": "stdout",
     "output_type": "stream",
     "text": [
      "5\n",
      "6\n",
      "25\n",
      "-15\n",
      "100\n",
      "5\n"
     ]
    }
   ],
   "source": [
    "x = 5, 10, 25\n",
    "y = 6, 12, 20\n",
    "\n",
    "print(min(x))\n",
    "print(min(y))\n",
    "print(min(x) + max(y))\n",
    "print(min(x) - max(y))\n",
    "print(min(x) * max(y))\n",
    "print(min(x) % max(y))"
   ]
  },
  {
   "cell_type": "code",
   "execution_count": null,
   "metadata": {},
   "outputs": [],
   "source": []
  }
 ],
 "metadata": {
  "kernelspec": {
   "display_name": "base",
   "language": "python",
   "name": "python3"
  },
  "language_info": {
   "codemirror_mode": {
    "name": "ipython",
    "version": 3
   },
   "file_extension": ".py",
   "mimetype": "text/x-python",
   "name": "python",
   "nbconvert_exporter": "python",
   "pygments_lexer": "ipython3",
   "version": "3.12.7"
  }
 },
 "nbformat": 4,
 "nbformat_minor": 2
}
