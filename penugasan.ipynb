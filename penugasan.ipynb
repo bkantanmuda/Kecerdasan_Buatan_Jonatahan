{
 "cells": [
  {
   "cell_type": "code",
   "execution_count": 14,
   "metadata": {},
   "outputs": [
    {
     "name": "stdout",
     "output_type": "stream",
     "text": [
      "A. A x B:\n",
      " [[7 2]\n",
      " [4 2]] \n",
      "\n",
      "B. B x C:\n",
      " [[ 0  2  3]\n",
      " [-3  1  3]]\n"
     ]
    }
   ],
   "source": [
    "import numpy as np\n",
    "\n",
    "A = np.array ([[3, 1],\n",
    "              [2, 0]])\n",
    "\n",
    "B = np.array ([[2, 1],\n",
    "              [1, -1]])\n",
    "\n",
    "C = np.array([[-1, 1, 2],\n",
    "             [2, 0, -1]])\n",
    "\n",
    "hasil = np.dot(A, B)\n",
    "Hasil = np.dot(B, C)\n",
    "\n",
    "print(\"A. A x B:\\n\", hasil, \"\\n\")\n",
    "print(\"B. B x C:\\n\", Hasil)"
   ]
  },
  {
   "cell_type": "code",
   "execution_count": 11,
   "metadata": {},
   "outputs": [
    {
     "name": "stdout",
     "output_type": "stream",
     "text": [
      "a. 6!:  720 \n",
      "\n",
      "b. 8! / 5!:  336.0\n"
     ]
    }
   ],
   "source": [
    "import math\n",
    "\n",
    "f_6 = math.factorial(6)\n",
    "f_5 = math.factorial(5)\n",
    "f_8 = math.factorial(8)\n",
    "\n",
    "hasil = f_8 / f_5\n",
    "\n",
    "print(\"a. 6!: \", f_6, \"\\n\")\n",
    "print(\"b. 8! / 5!: \", hasil)"
   ]
  },
  {
   "cell_type": "code",
   "execution_count": 13,
   "metadata": {},
   "outputs": [
    {
     "name": "stdout",
     "output_type": "stream",
     "text": [
      "vektor A = 9.11\n",
      "vektor B = 12.41\n",
      "A . B = 58\n",
      "A x B = [ 24  79 -51]\n"
     ]
    }
   ],
   "source": [
    "import numpy as np\n",
    "\n",
    "\n",
    "A = np.array([5, 3, 7])\n",
    "B = np.array([12, -3, 1])\n",
    "\n",
    "panjang_A = np.linalg.norm(A)\n",
    "panjang_B = np.linalg.norm(B)\n",
    "\n",
    "DOT = np.dot(A, B)\n",
    "CROSS = np.cross(A, B)\n",
    "\n",
    "print(\"vektor A =\", round(panjang_A, 2))\n",
    "print(\"vektor B =\", round(panjang_B, 2))\n",
    "print(\"A . B =\", DOT)\n",
    "print(\"A x B =\", CROSS)\n"
   ]
  }
 ],
 "metadata": {
  "kernelspec": {
   "display_name": "base",
   "language": "python",
   "name": "python3"
  },
  "language_info": {
   "codemirror_mode": {
    "name": "ipython",
    "version": 3
   },
   "file_extension": ".py",
   "mimetype": "text/x-python",
   "name": "python",
   "nbconvert_exporter": "python",
   "pygments_lexer": "ipython3",
   "version": "3.12.7"
  }
 },
 "nbformat": 4,
 "nbformat_minor": 2
}
